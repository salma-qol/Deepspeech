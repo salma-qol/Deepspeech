{
  "nbformat": 4,
  "nbformat_minor": 0,
  "metadata": {
    "colab": {
      "provenance": []
    },
    "kernelspec": {
      "name": "python3",
      "display_name": "Python 3"
    }
  },
  "cells": [
    {
      "cell_type": "code",
      "metadata": {
        "id": "PBRgj6Hv3tVk"
      },
      "source": [
        "!mkdir Speech"
      ],
      "execution_count": null,
      "outputs": []
    },
    {
      "cell_type": "code",
      "metadata": {
        "id": "hOSu1SdR34Mw"
      },
      "source": [
        "!cd Speech/"
      ],
      "execution_count": null,
      "outputs": []
    },
    {
      "cell_type": "code",
      "metadata": {
        "id": "8vMjOeVW37lR",
        "outputId": "2275ca18-504b-42bc-ace0-40b004569e0e",
        "colab": {
          "base_uri": "https://localhost:8080/",
          "height": 152
        }
      },
      "source": [
        "pip install deepspeech==0.5.1"
      ],
      "execution_count": null,
      "outputs": [
        {
          "output_type": "stream",
          "text": [
            "Collecting deepspeech==0.5.1\n",
            "\u001b[?25l  Downloading https://files.pythonhosted.org/packages/86/66/cfa936f835da012bd5495d0cdef3d089a386c7d7a87ed292360753866edc/deepspeech-0.5.1-cp36-cp36m-manylinux1_x86_64.whl (15.6MB)\n",
            "\u001b[K     |████████████████████████████████| 15.6MB 307kB/s \n",
            "\u001b[?25hRequirement already satisfied: numpy>=1.7.0 in /usr/local/lib/python3.6/dist-packages (from deepspeech==0.5.1) (1.17.5)\n",
            "Installing collected packages: deepspeech\n",
            "Successfully installed deepspeech-0.5.1\n"
          ],
          "name": "stdout"
        }
      ]
    },
    {
      "cell_type": "code",
      "metadata": {
        "id": "oUcr05je4Kv5",
        "outputId": "9a66473a-fe58-4210-9e7e-7c582146e2e7",
        "colab": {
          "base_uri": "https://localhost:8080/",
          "height": 362
        }
      },
      "source": [
        "!curl -LO https://github.com/mozilla/DeepSpeech/releases/download/v0.5.1/deepspeech-0.5.1-models.tar.gz\n",
        "!tar xvf deepspeech-0.5.1-models.tar.gz"
      ],
      "execution_count": null,
      "outputs": [
        {
          "output_type": "stream",
          "text": [
            "  % Total    % Received % Xferd  Average Speed   Time    Time     Time  Current\n",
            "                                 Dload  Upload   Total   Spent    Left  Speed\n",
            "100   620  100   620    0     0   1635      0 --:--:-- --:--:-- --:--:--  1635\n",
            "100 1828M  100 1828M    0     0  44.8M      0  0:00:40  0:00:40 --:--:-- 46.5M\n",
            "./._deepspeech-0.5.1-models\n",
            "deepspeech-0.5.1-models/\n",
            "deepspeech-0.5.1-models/._lm.binary\n",
            "deepspeech-0.5.1-models/lm.binary\n",
            "deepspeech-0.5.1-models/._output_graph.pbmm\n",
            "deepspeech-0.5.1-models/output_graph.pbmm\n",
            "deepspeech-0.5.1-models/._output_graph.pb\n",
            "deepspeech-0.5.1-models/output_graph.pb\n",
            "deepspeech-0.5.1-models/._trie\n",
            "deepspeech-0.5.1-models/trie\n",
            "deepspeech-0.5.1-models/._output_graph.tflite\n",
            "deepspeech-0.5.1-models/output_graph.tflite\n",
            "deepspeech-0.5.1-models/._alphabet.txt\n",
            "deepspeech-0.5.1-models/alphabet.txt\n"
          ],
          "name": "stdout"
        }
      ]
    },
    {
      "cell_type": "code",
      "metadata": {
        "id": "syhJiwHx6J9Q",
        "outputId": "a75d88f3-528f-43d8-cb51-146022821316",
        "colab": {
          "base_uri": "https://localhost:8080/",
          "height": 209
        }
      },
      "source": [
        "!curl -LO https://github.com/mozilla/DeepSpeech/releases/download/v0.5.1/audio-0.5.1.tar.gz\n",
        "!tar xvf audio-0.5.1.tar.gz"
      ],
      "execution_count": null,
      "outputs": [
        {
          "output_type": "stream",
          "text": [
            "  % Total    % Received % Xferd  Average Speed   Time    Time     Time  Current\n",
            "                                 Dload  Upload   Total   Spent    Left  Speed\n",
            "\r  0     0    0     0    0     0      0      0 --:--:-- --:--:-- --:--:--     0\r  0     0    0     0    0     0      0      0 --:--:-- --:--:-- --:--:--     0\r100   608  100   608    0     0   1798      0 --:--:-- --:--:-- --:--:--  1798\n",
            "\r100  192k  100  192k    0     0   232k      0 --:--:-- --:--:-- --:--:--  232k\n",
            "audio/\n",
            "audio/2830-3980-0043.wav\n",
            "audio/Attribution.txt\n",
            "audio/4507-16021-0012.wav\n",
            "audio/8455-210777-0068.wav\n",
            "audio/License.txt\n"
          ],
          "name": "stdout"
        }
      ]
    },
    {
      "cell_type": "code",
      "metadata": {
        "id": "chOsYJuD6Moi",
        "outputId": "d89447fd-f6fc-46c5-f573-b913269fb1f3",
        "colab": {
          "base_uri": "https://localhost:8080/",
          "height": 305
        }
      },
      "source": [
        "!deepspeech --model deepspeech-0.5.1-models/output_graph.pbmm --alphabet deepspeech-0.5.1-models/alphabet.txt --lm deepspeech-0.5.1-models/lm.binary --trie deepspeech-0.5.1-models/trie --audio audio/2830-3980-0043.wav"
      ],
      "execution_count": null,
      "outputs": [
        {
          "output_type": "stream",
          "text": [
            "Loading model from file deepspeech-0.5.1-models/output_graph.pbmm\n",
            "TensorFlow: v1.13.1-10-g3e0cc53\n",
            "DeepSpeech: v0.5.1-0-g4b29b78\n",
            "2020-03-16 11:33:41.507954: I tensorflow/core/platform/cpu_feature_guard.cc:141] Your CPU supports instructions that this TensorFlow binary was not compiled to use: AVX2 FMA\n",
            "2020-03-16 11:33:41.513116: E tensorflow/core/framework/op_kernel.cc:1325] OpKernel ('op: \"UnwrapDatasetVariant\" device_type: \"CPU\"') for unknown op: UnwrapDatasetVariant\n",
            "2020-03-16 11:33:41.513157: E tensorflow/core/framework/op_kernel.cc:1325] OpKernel ('op: \"WrapDatasetVariant\" device_type: \"GPU\" host_memory_arg: \"input_handle\" host_memory_arg: \"output_handle\"') for unknown op: WrapDatasetVariant\n",
            "2020-03-16 11:33:41.513171: E tensorflow/core/framework/op_kernel.cc:1325] OpKernel ('op: \"WrapDatasetVariant\" device_type: \"CPU\"') for unknown op: WrapDatasetVariant\n",
            "2020-03-16 11:33:41.513236: E tensorflow/core/framework/op_kernel.cc:1325] OpKernel ('op: \"UnwrapDatasetVariant\" device_type: \"GPU\" host_memory_arg: \"input_handle\" host_memory_arg: \"output_handle\"') for unknown op: UnwrapDatasetVariant\n",
            "Loaded model in 0.00713s.\n",
            "Loading language model from files deepspeech-0.5.1-models/lm.binary deepspeech-0.5.1-models/trie\n",
            "Loaded language model in 0.218s.\n",
            "Running inference.\n",
            "experience proof this\n",
            "Inference took 1.491s for 1.975s audio file.\n"
          ],
          "name": "stdout"
        }
      ]
    }
  ]
}